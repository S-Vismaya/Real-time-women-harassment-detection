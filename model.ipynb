{
  "nbformat": 4,
  "nbformat_minor": 0,
  "metadata": {
    "colab": {
      "provenance": [],
      "gpuType": "T4"
    },
    "kernelspec": {
      "name": "python3",
      "display_name": "Python 3"
    },
    "language_info": {
      "name": "python"
    },
    "accelerator": "GPU"
  },
  "cells": [
    {
      "cell_type": "code",
      "execution_count": null,
      "metadata": {
        "colab": {
          "base_uri": "https://localhost:8080/"
        },
        "id": "DScFOmVufvSz",
        "outputId": "225755ad-c4e0-4a1f-9113-cef7f4a1a82a"
      },
      "outputs": [
        {
          "output_type": "stream",
          "name": "stdout",
          "text": [
            "Requirement already satisfied: tensorflow==2.14.0 in /usr/local/lib/python3.10/dist-packages (2.14.0)\n",
            "Requirement already satisfied: absl-py>=1.0.0 in /usr/local/lib/python3.10/dist-packages (from tensorflow==2.14.0) (1.4.0)\n",
            "Requirement already satisfied: astunparse>=1.6.0 in /usr/local/lib/python3.10/dist-packages (from tensorflow==2.14.0) (1.6.3)\n",
            "Requirement already satisfied: flatbuffers>=23.5.26 in /usr/local/lib/python3.10/dist-packages (from tensorflow==2.14.0) (23.5.26)\n",
            "Requirement already satisfied: gast!=0.5.0,!=0.5.1,!=0.5.2,>=0.2.1 in /usr/local/lib/python3.10/dist-packages (from tensorflow==2.14.0) (0.5.4)\n",
            "Requirement already satisfied: google-pasta>=0.1.1 in /usr/local/lib/python3.10/dist-packages (from tensorflow==2.14.0) (0.2.0)\n",
            "Requirement already satisfied: h5py>=2.9.0 in /usr/local/lib/python3.10/dist-packages (from tensorflow==2.14.0) (3.9.0)\n",
            "Requirement already satisfied: libclang>=13.0.0 in /usr/local/lib/python3.10/dist-packages (from tensorflow==2.14.0) (16.0.6)\n",
            "Requirement already satisfied: ml-dtypes==0.2.0 in /usr/local/lib/python3.10/dist-packages (from tensorflow==2.14.0) (0.2.0)\n",
            "Requirement already satisfied: numpy>=1.23.5 in /usr/local/lib/python3.10/dist-packages (from tensorflow==2.14.0) (1.25.2)\n",
            "Requirement already satisfied: opt-einsum>=2.3.2 in /usr/local/lib/python3.10/dist-packages (from tensorflow==2.14.0) (3.3.0)\n",
            "Requirement already satisfied: packaging in /usr/local/lib/python3.10/dist-packages (from tensorflow==2.14.0) (23.2)\n",
            "Requirement already satisfied: protobuf!=4.21.0,!=4.21.1,!=4.21.2,!=4.21.3,!=4.21.4,!=4.21.5,<5.0.0dev,>=3.20.3 in /usr/local/lib/python3.10/dist-packages (from tensorflow==2.14.0) (3.20.3)\n",
            "Requirement already satisfied: setuptools in /usr/local/lib/python3.10/dist-packages (from tensorflow==2.14.0) (67.7.2)\n",
            "Requirement already satisfied: six>=1.12.0 in /usr/local/lib/python3.10/dist-packages (from tensorflow==2.14.0) (1.16.0)\n",
            "Requirement already satisfied: termcolor>=1.1.0 in /usr/local/lib/python3.10/dist-packages (from tensorflow==2.14.0) (2.4.0)\n",
            "Requirement already satisfied: typing-extensions>=3.6.6 in /usr/local/lib/python3.10/dist-packages (from tensorflow==2.14.0) (4.10.0)\n",
            "Requirement already satisfied: wrapt<1.15,>=1.11.0 in /usr/local/lib/python3.10/dist-packages (from tensorflow==2.14.0) (1.14.1)\n",
            "Requirement already satisfied: tensorflow-io-gcs-filesystem>=0.23.1 in /usr/local/lib/python3.10/dist-packages (from tensorflow==2.14.0) (0.36.0)\n",
            "Requirement already satisfied: grpcio<2.0,>=1.24.3 in /usr/local/lib/python3.10/dist-packages (from tensorflow==2.14.0) (1.62.0)\n",
            "Requirement already satisfied: tensorboard<2.15,>=2.14 in /usr/local/lib/python3.10/dist-packages (from tensorflow==2.14.0) (2.14.1)\n",
            "Requirement already satisfied: tensorflow-estimator<2.15,>=2.14.0 in /usr/local/lib/python3.10/dist-packages (from tensorflow==2.14.0) (2.14.0)\n",
            "Requirement already satisfied: keras<2.15,>=2.14.0 in /usr/local/lib/python3.10/dist-packages (from tensorflow==2.14.0) (2.14.0)\n",
            "Requirement already satisfied: wheel<1.0,>=0.23.0 in /usr/local/lib/python3.10/dist-packages (from astunparse>=1.6.0->tensorflow==2.14.0) (0.42.0)\n",
            "Requirement already satisfied: google-auth<3,>=1.6.3 in /usr/local/lib/python3.10/dist-packages (from tensorboard<2.15,>=2.14->tensorflow==2.14.0) (2.27.0)\n",
            "Requirement already satisfied: google-auth-oauthlib<1.1,>=0.5 in /usr/local/lib/python3.10/dist-packages (from tensorboard<2.15,>=2.14->tensorflow==2.14.0) (1.0.0)\n",
            "Requirement already satisfied: markdown>=2.6.8 in /usr/local/lib/python3.10/dist-packages (from tensorboard<2.15,>=2.14->tensorflow==2.14.0) (3.5.2)\n",
            "Requirement already satisfied: requests<3,>=2.21.0 in /usr/local/lib/python3.10/dist-packages (from tensorboard<2.15,>=2.14->tensorflow==2.14.0) (2.31.0)\n",
            "Requirement already satisfied: tensorboard-data-server<0.8.0,>=0.7.0 in /usr/local/lib/python3.10/dist-packages (from tensorboard<2.15,>=2.14->tensorflow==2.14.0) (0.7.2)\n",
            "Requirement already satisfied: werkzeug>=1.0.1 in /usr/local/lib/python3.10/dist-packages (from tensorboard<2.15,>=2.14->tensorflow==2.14.0) (3.0.1)\n",
            "Requirement already satisfied: cachetools<6.0,>=2.0.0 in /usr/local/lib/python3.10/dist-packages (from google-auth<3,>=1.6.3->tensorboard<2.15,>=2.14->tensorflow==2.14.0) (5.3.3)\n",
            "Requirement already satisfied: pyasn1-modules>=0.2.1 in /usr/local/lib/python3.10/dist-packages (from google-auth<3,>=1.6.3->tensorboard<2.15,>=2.14->tensorflow==2.14.0) (0.3.0)\n",
            "Requirement already satisfied: rsa<5,>=3.1.4 in /usr/local/lib/python3.10/dist-packages (from google-auth<3,>=1.6.3->tensorboard<2.15,>=2.14->tensorflow==2.14.0) (4.9)\n",
            "Requirement already satisfied: requests-oauthlib>=0.7.0 in /usr/local/lib/python3.10/dist-packages (from google-auth-oauthlib<1.1,>=0.5->tensorboard<2.15,>=2.14->tensorflow==2.14.0) (1.3.1)\n",
            "Requirement already satisfied: charset-normalizer<4,>=2 in /usr/local/lib/python3.10/dist-packages (from requests<3,>=2.21.0->tensorboard<2.15,>=2.14->tensorflow==2.14.0) (3.3.2)\n",
            "Requirement already satisfied: idna<4,>=2.5 in /usr/local/lib/python3.10/dist-packages (from requests<3,>=2.21.0->tensorboard<2.15,>=2.14->tensorflow==2.14.0) (3.6)\n",
            "Requirement already satisfied: urllib3<3,>=1.21.1 in /usr/local/lib/python3.10/dist-packages (from requests<3,>=2.21.0->tensorboard<2.15,>=2.14->tensorflow==2.14.0) (2.0.7)\n",
            "Requirement already satisfied: certifi>=2017.4.17 in /usr/local/lib/python3.10/dist-packages (from requests<3,>=2.21.0->tensorboard<2.15,>=2.14->tensorflow==2.14.0) (2024.2.2)\n",
            "Requirement already satisfied: MarkupSafe>=2.1.1 in /usr/local/lib/python3.10/dist-packages (from werkzeug>=1.0.1->tensorboard<2.15,>=2.14->tensorflow==2.14.0) (2.1.5)\n",
            "Requirement already satisfied: pyasn1<0.6.0,>=0.4.6 in /usr/local/lib/python3.10/dist-packages (from pyasn1-modules>=0.2.1->google-auth<3,>=1.6.3->tensorboard<2.15,>=2.14->tensorflow==2.14.0) (0.5.1)\n",
            "Requirement already satisfied: oauthlib>=3.0.0 in /usr/local/lib/python3.10/dist-packages (from requests-oauthlib>=0.7.0->google-auth-oauthlib<1.1,>=0.5->tensorboard<2.15,>=2.14->tensorflow==2.14.0) (3.2.2)\n"
          ]
        }
      ],
      "source": [
        "!pip install tensorflow==2.14.0"
      ]
    },
    {
      "cell_type": "code",
      "source": [
        "import tensorflow as tf\n",
        "print(tf.__version__)"
      ],
      "metadata": {
        "colab": {
          "base_uri": "https://localhost:8080/"
        },
        "id": "CnYKYAImf0al",
        "outputId": "5f2921d1-f58f-4b95-c216-6e799f1b670f"
      },
      "execution_count": null,
      "outputs": [
        {
          "output_type": "stream",
          "name": "stdout",
          "text": [
            "2.14.0\n"
          ]
        }
      ]
    },
    {
      "cell_type": "code",
      "source": [],
      "metadata": {
        "id": "M3CNuFIvf-GK"
      },
      "execution_count": null,
      "outputs": []
    },
    {
      "cell_type": "code",
      "source": [
        "from google.colab import drive\n",
        "drive.mount('/content/drive')"
      ],
      "metadata": {
        "colab": {
          "base_uri": "https://localhost:8080/"
        },
        "id": "WvTmG9Cxim3H",
        "outputId": "55903902-3045-44aa-902b-6bf0f9e963e1"
      },
      "execution_count": null,
      "outputs": [
        {
          "output_type": "stream",
          "name": "stdout",
          "text": [
            "Drive already mounted at /content/drive; to attempt to forcibly remount, call drive.mount(\"/content/drive\", force_remount=True).\n"
          ]
        }
      ]
    },
    {
      "cell_type": "code",
      "source": [
        "import pandas as pd\n",
        "\n",
        "# Assuming your CSV file is named 'file_paths.csv' and located in the root of your Google Drive\n",
        "file_paths = pd.read_csv('/content/drive/My Drive/dataset3.csv')"
      ],
      "metadata": {
        "id": "xPZyxonIjCHW"
      },
      "execution_count": null,
      "outputs": []
    },
    {
      "cell_type": "code",
      "source": [
        "colab_paths = []\n",
        "\n",
        "for index, row in file_paths.iterrows():\n",
        "    file_path = row['Image Path']  # Assuming 'file_path' is the column containing the file paths\n",
        "    print(file_path)\n",
        "    colab_path = '/content/drive/My Drive/' + file_path  # Assuming the file paths are relative to the root of Google Drive\n",
        "    colab_paths.append(colab_path)\n",
        "\n",
        "# Add the new 'colab_path' column to the DataFrame\n",
        "file_paths['colab_path'] = colab_paths\n",
        "\n",
        "# Optionally, you can save the DataFrame back to a CSV file with the updated paths\n",
        "file_paths.to_csv('/content/drive/My Drive/colab_paths1.csv', index=False)"
      ],
      "metadata": {
        "colab": {
          "base_uri": "https://localhost:8080/"
        },
        "id": "i-0RrZYUjLxc",
        "outputId": "a328b719-418e-46e2-9688-a688ef4f4274"
      },
      "execution_count": null,
      "outputs": [
        {
          "output_type": "stream",
          "name": "stdout",
          "text": [
            "safe/1.png\n",
            "safe/10.png\n",
            "safe/100.png\n",
            "safe/101.png\n",
            "safe/102.png\n",
            "safe/103.png\n",
            "safe/104.png\n",
            "safe/105.png\n",
            "safe/106.png\n",
            "safe/107.png\n",
            "safe/108.png\n",
            "safe/109.png\n",
            "safe/11.png\n",
            "safe/110.png\n",
            "safe/111.png\n",
            "safe/112.png\n",
            "safe/113.png\n",
            "safe/114.png\n",
            "safe/115.png\n",
            "safe/116.png\n",
            "safe/117.png\n",
            "safe/118.png\n",
            "safe/119.png\n",
            "safe/12.png\n",
            "safe/120.png\n",
            "safe/121.png\n",
            "safe/122.png\n",
            "safe/123.png\n",
            "safe/124.png\n",
            "safe/125.png\n",
            "safe/126.png\n",
            "safe/127.png\n",
            "safe/128.png\n",
            "safe/129.png\n",
            "safe/13.png\n",
            "safe/130.png\n",
            "safe/131.png\n",
            "safe/132.png\n",
            "safe/133.png\n",
            "safe/134.png\n",
            "safe/135.png\n",
            "safe/136.png\n",
            "safe/137.png\n",
            "safe/138.png\n",
            "safe/139.png\n",
            "safe/14.png\n",
            "safe/140.png\n",
            "safe/141.png\n",
            "safe/142.png\n",
            "safe/143.png\n",
            "safe/144.png\n",
            "safe/145.png\n",
            "safe/146.png\n",
            "safe/147.png\n",
            "safe/148.png\n",
            "safe/149.png\n",
            "safe/15.png\n",
            "safe/150.png\n",
            "safe/151.png\n",
            "safe/152.png\n",
            "safe/153.png\n",
            "safe/154.png\n",
            "safe/155.png\n",
            "safe/156.png\n",
            "safe/157.png\n",
            "safe/158.png\n",
            "safe/159.png\n",
            "safe/16.png\n",
            "safe/160.png\n",
            "safe/161.png\n",
            "safe/162.png\n",
            "safe/163.png\n",
            "safe/164.png\n",
            "safe/165.png\n",
            "safe/166.png\n",
            "safe/167.png\n",
            "safe/168.png\n",
            "safe/169.png\n",
            "safe/17.png\n",
            "safe/170.png\n",
            "safe/171.png\n",
            "safe/172.png\n",
            "safe/173.png\n",
            "safe/174.png\n",
            "safe/175.png\n",
            "safe/176.png\n",
            "safe/177.png\n",
            "safe/178.png\n",
            "safe/179.png\n",
            "safe/18.png\n",
            "safe/180.png\n",
            "safe/181.png\n",
            "safe/182.png\n",
            "safe/183.png\n",
            "safe/184.png\n",
            "safe/19.png\n",
            "safe/2.png\n",
            "safe/20.png\n",
            "safe/21.png\n",
            "safe/22.png\n",
            "safe/23.png\n",
            "safe/24.png\n",
            "safe/25.png\n",
            "safe/26.png\n",
            "safe/27.png\n",
            "safe/28.png\n",
            "safe/29.png\n",
            "safe/3.png\n",
            "safe/30.png\n",
            "safe/31.png\n",
            "safe/32.png\n",
            "safe/33.png\n",
            "safe/34.png\n",
            "safe/35.png\n",
            "safe/36.png\n",
            "safe/37.png\n",
            "safe/38.png\n",
            "safe/39.png\n",
            "safe/4.png\n",
            "safe/40.png\n",
            "safe/41.png\n",
            "safe/42.png\n",
            "safe/43.png\n",
            "safe/44.png\n",
            "safe/45.png\n",
            "safe/46.png\n",
            "safe/47.png\n",
            "safe/48.png\n",
            "safe/49.png\n",
            "safe/5.png\n",
            "safe/50.png\n",
            "safe/51.png\n",
            "safe/52.png\n",
            "safe/53.png\n",
            "safe/54.png\n",
            "safe/55.png\n",
            "safe/56.png\n",
            "safe/57.png\n",
            "safe/58.png\n",
            "safe/59.png\n",
            "safe/6.png\n",
            "safe/60.png\n",
            "safe/61.png\n",
            "safe/62.png\n",
            "safe/63.png\n",
            "safe/64.png\n",
            "safe/65.png\n",
            "safe/66.png\n",
            "safe/67.png\n",
            "safe/68.png\n",
            "safe/69.png\n",
            "safe/7.png\n",
            "safe/70.png\n",
            "safe/71.png\n",
            "safe/72.png\n",
            "safe/73.png\n",
            "safe/74.png\n",
            "safe/75.png\n",
            "safe/76.png\n",
            "safe/77.png\n",
            "safe/78.png\n",
            "safe/79.png\n",
            "safe/8.png\n",
            "safe/80.png\n",
            "safe/81.png\n",
            "safe/82.png\n",
            "safe/83.png\n",
            "safe/84.png\n",
            "safe/85.png\n",
            "safe/86.png\n",
            "safe/87.png\n",
            "safe/88.png\n",
            "safe/89.png\n",
            "safe/9.png\n",
            "safe/90.png\n",
            "safe/91.png\n",
            "safe/92.png\n",
            "safe/93.png\n",
            "safe/94.png\n",
            "safe/95.png\n",
            "safe/96.png\n",
            "safe/97.png\n",
            "safe/98.png\n",
            "safe/99.png\n",
            "unsafe/Screenshot 2024-03-07 103200.png\n",
            "unsafe/Screenshot 2024-03-07 103236.png\n",
            "unsafe/Screenshot 2024-03-07 103255.png\n",
            "unsafe/Screenshot 2024-03-07 103309.png\n",
            "unsafe/Screenshot 2024-03-07 103324.png\n",
            "unsafe/Screenshot 2024-03-07 103339.png\n",
            "unsafe/Screenshot 2024-03-07 103402.png\n",
            "unsafe/Screenshot 2024-03-07 103415.png\n",
            "unsafe/Screenshot 2024-03-07 103431.png\n",
            "unsafe/Screenshot 2024-03-07 103442.png\n",
            "unsafe/Screenshot 2024-03-07 103459.png\n",
            "unsafe/Screenshot 2024-03-07 103522.png\n",
            "unsafe/Screenshot 2024-03-07 103533.png\n",
            "unsafe/Screenshot 2024-03-07 103544.png\n",
            "unsafe/Screenshot 2024-03-07 103554.png\n",
            "unsafe/Screenshot 2024-03-07 103608.png\n",
            "unsafe/Screenshot 2024-03-07 103622.png\n",
            "unsafe/Screenshot 2024-03-07 103636.png\n",
            "unsafe/Screenshot 2024-03-07 103651.png\n",
            "unsafe/Screenshot 2024-03-07 103704.png\n",
            "unsafe/Screenshot 2024-03-07 103717.png\n",
            "unsafe/Screenshot 2024-03-07 103729.png\n",
            "unsafe/Screenshot 2024-03-07 103745.png\n",
            "unsafe/Screenshot 2024-03-07 103756.png\n",
            "unsafe/Screenshot 2024-03-07 103826.png\n",
            "unsafe/Screenshot 2024-03-07 103840.png\n",
            "unsafe/Screenshot 2024-03-07 103851.png\n",
            "unsafe/Screenshot 2024-03-07 103907.png\n",
            "unsafe/Screenshot 2024-03-07 103921.png\n",
            "unsafe/Screenshot 2024-03-07 103937.png\n",
            "unsafe/Screenshot 2024-03-07 103949.png\n",
            "unsafe/Screenshot 2024-03-07 104001.png\n",
            "unsafe/Screenshot 2024-03-07 104015.png\n",
            "unsafe/Screenshot 2024-03-07 104027.png\n",
            "unsafe/Screenshot 2024-03-07 104039.png\n",
            "unsafe/Screenshot 2024-03-07 104053.png\n",
            "unsafe/Screenshot 2024-03-07 104113.png\n",
            "unsafe/Screenshot 2024-03-07 104123.png\n",
            "unsafe/Screenshot 2024-03-07 104135.png\n",
            "unsafe/Screenshot 2024-03-07 104145.png\n",
            "unsafe/Screenshot 2024-03-07 104205.png\n",
            "unsafe/Screenshot 2024-03-07 104224.png\n",
            "unsafe/Screenshot 2024-03-07 104249.png\n",
            "unsafe/Screenshot 2024-03-07 104301.png\n",
            "unsafe/Screenshot 2024-03-07 104331.png\n",
            "unsafe/Screenshot 2024-03-07 104347.png\n",
            "unsafe/Screenshot 2024-03-07 104404.png\n",
            "unsafe/Screenshot 2024-03-07 104416.png\n",
            "unsafe/Screenshot 2024-03-07 104432.png\n",
            "unsafe/Screenshot 2024-03-07 104444.png\n",
            "unsafe/Screenshot 2024-03-07 104456.png\n",
            "unsafe/Screenshot 2024-03-07 104513.png\n",
            "unsafe/Screenshot 2024-03-07 104549.png\n",
            "unsafe/Screenshot 2024-03-07 104601.png\n",
            "unsafe/Screenshot 2024-03-07 104637.png\n",
            "unsafe/Screenshot 2024-03-07 104649.png\n",
            "unsafe/Screenshot 2024-03-07 104711.png\n",
            "unsafe/Screenshot 2024-03-07 104722.png\n",
            "unsafe/Screenshot 2024-03-07 104741.png\n",
            "unsafe/Screenshot 2024-03-07 104802.png\n",
            "unsafe/Screenshot 2024-03-07 104816.png\n",
            "unsafe/Screenshot 2024-03-07 104826.png\n",
            "unsafe/Screenshot 2024-03-07 104838.png\n",
            "unsafe/Screenshot 2024-03-07 104855.png\n",
            "unsafe/Screenshot 2024-03-07 104912.png\n",
            "unsafe/Screenshot 2024-03-07 104922.png\n",
            "unsafe/Screenshot 2024-03-07 104932.png\n",
            "unsafe/Screenshot 2024-03-07 104945.png\n",
            "unsafe/Screenshot 2024-03-07 105002.png\n",
            "unsafe/Screenshot 2024-03-07 105013.png\n",
            "unsafe/Screenshot 2024-03-07 105030.png\n",
            "unsafe/Screenshot 2024-03-07 105044.png\n",
            "unsafe/Screenshot 2024-03-07 105054.png\n",
            "unsafe/Screenshot 2024-03-07 105107.png\n",
            "unsafe/Screenshot 2024-03-07 105118.png\n",
            "unsafe/Screenshot 2024-03-07 105126.png\n",
            "unsafe/Screenshot 2024-03-07 105148.png\n",
            "unsafe/Screenshot 2024-03-07 105204.png\n",
            "unsafe/Screenshot 2024-03-07 105220.png\n",
            "unsafe/Screenshot 2024-03-07 105227.png\n",
            "unsafe/Screenshot 2024-03-07 105239.png\n",
            "unsafe/Screenshot 2024-03-07 105247.png\n",
            "unsafe/Screenshot 2024-03-07 105259.png\n",
            "unsafe/Screenshot 2024-03-07 105309.png\n",
            "unsafe/Screenshot 2024-03-07 105319.png\n",
            "unsafe/Screenshot 2024-03-07 105335.png\n",
            "unsafe/Screenshot 2024-03-07 105348.png\n",
            "unsafe/Screenshot 2024-03-07 105358.png\n",
            "unsafe/Screenshot 2024-03-07 105415.png\n",
            "unsafe/Screenshot 2024-03-07 105437.png\n",
            "unsafe/Screenshot 2024-03-07 105445.png\n",
            "unsafe/Screenshot 2024-03-07 105933.png\n",
            "unsafe/Screenshot 2024-03-07 113208.png\n",
            "unsafe/Screenshot 2024-03-07 113222.png\n",
            "unsafe/Screenshot 2024-03-07 113232.png\n",
            "unsafe/Screenshot 2024-03-07 113245.png\n",
            "unsafe/Screenshot 2024-03-07 113255.png\n",
            "unsafe/Screenshot 2024-03-07 114511.png\n",
            "unsafe/Screenshot 2024-03-07 114524.png\n",
            "unsafe/Screenshot 2024-03-07 114533.png\n",
            "unsafe/Screenshot 2024-03-07 114541.png\n",
            "unsafe/Screenshot 2024-03-07 114552.png\n",
            "unsafe/Screenshot 2024-03-07 114612.png\n",
            "unsafe/Screenshot 2024-03-07 114619.png\n",
            "unsafe/Screenshot 2024-03-07 114630.png\n",
            "unsafe/Screenshot 2024-03-07 114641.png\n",
            "unsafe/Screenshot 2024-03-07 114702.png\n",
            "unsafe/Screenshot 2024-03-07 114719.png\n",
            "unsafe/Screenshot 2024-03-07 114730.png\n",
            "unsafe/Screenshot 2024-03-07 114741.png\n",
            "unsafe/Screenshot 2024-03-07 114807.png\n",
            "unsafe/Screenshot 2024-03-07 114824.png\n",
            "unsafe/Screenshot 2024-03-07 114832.png\n",
            "unsafe/Screenshot 2024-03-07 114842.png\n",
            "unsafe/Screenshot 2024-03-07 114849.png\n",
            "unsafe/Screenshot 2024-03-07 114857.png\n",
            "unsafe/Screenshot 2024-03-07 114911.png\n",
            "unsafe/Screenshot 2024-03-07 114935.png\n",
            "unsafe/Screenshot 2024-03-07 114947.png\n",
            "unsafe/Screenshot 2024-03-07 114959.png\n",
            "unsafe/Screenshot 2024-03-07 115008.png\n",
            "unsafe/Screenshot 2024-03-07 115023.png\n",
            "unsafe/Screenshot 2024-03-07 115031.png\n",
            "unsafe/Screenshot 2024-03-07 115058.png\n",
            "unsafe/Screenshot 2024-03-07 115148.png\n",
            "unsafe/Screenshot 2024-03-07 115156.png\n",
            "unsafe/Screenshot 2024-03-07 115220.png\n",
            "unsafe/Screenshot 2024-03-07 115237.png\n",
            "unsafe/Screenshot 2024-03-07 115256.png\n",
            "unsafe/Screenshot 2024-03-07 115312.png\n",
            "unsafe/Screenshot 2024-03-07 115332.png\n",
            "unsafe/Screenshot 2024-03-07 115345.png\n",
            "unsafe/Screenshot 2024-03-07 115353.png\n",
            "unsafe/Screenshot 2024-03-07 115405.png\n",
            "unsafe/Screenshot 2024-03-07 115426.png\n",
            "unsafe/Screenshot 2024-03-07 115443.png\n",
            "unsafe/Screenshot 2024-03-07 115455.png\n",
            "unsafe/Screenshot 2024-03-07 115511.png\n",
            "unsafe/Screenshot 2024-03-07 115553.png\n",
            "unsafe/Screenshot 2024-03-07 115601.png\n",
            "unsafe/Screenshot 2024-03-07 115615.png\n",
            "unsafe/Screenshot 2024-03-07 115630.png\n",
            "unsafe/Screenshot 2024-03-07 115646.png\n",
            "unsafe/Screenshot 2024-03-07 115736.png\n",
            "unsafe/Screenshot 2024-03-07 115755.png\n",
            "unsafe/Screenshot 2024-03-07 115806.png\n",
            "unsafe/Screenshot 2024-03-07 120036.png\n",
            "unsafe/Screenshot 2024-03-07 120049.png\n",
            "unsafe/Screenshot 2024-03-07 120117.png\n",
            "unsafe/Screenshot 2024-03-07 120127.png\n",
            "unsafe/Screenshot 2024-03-07 120148.png\n",
            "unsafe/Screenshot 2024-03-07 120200.png\n",
            "unsafe/Screenshot 2024-03-07 120218.png\n",
            "unsafe/Screenshot 2024-03-07 120227.png\n",
            "unsafe/Screenshot 2024-03-07 120239.png\n",
            "unsafe/Screenshot 2024-03-07 120259.png\n",
            "unsafe/Screenshot 2024-03-07 120314.png\n",
            "unsafe/Screenshot 2024-03-07 121032.png\n",
            "unsafe/Screenshot 2024-03-07 121051.png\n",
            "unsafe/Screenshot 2024-03-07 121146.png\n",
            "unsafe/Screenshot 2024-03-07 121158.png\n",
            "unsafe/Screenshot 2024-03-07 121233.png\n",
            "unsafe/Screenshot 2024-03-07 121307.png\n",
            "unsafe/Screenshot 2024-03-07 121318.png\n",
            "unsafe/Screenshot 2024-03-07 121436.png\n",
            "unsafe/Screenshot 2024-03-07 121522.png\n",
            "unsafe/Screenshot 2024-03-07 121540.png\n",
            "unsafe/Screenshot 2024-03-07 121600.png\n",
            "unsafe/Screenshot 2024-03-07 121610.png\n",
            "unsafe/Screenshot 2024-03-07 121616.png\n",
            "unsafe/Screenshot 2024-03-07 121630.png\n",
            "unsafe/Screenshot 2024-03-07 121644.png\n",
            "unsafe/Screenshot 2024-03-07 121654.png\n",
            "unsafe/Screenshot 2024-03-07 121807.png\n",
            "unsafe/Screenshot 2024-03-07 121821.png\n",
            "unsafe/Screenshot 2024-03-07 121905.png\n",
            "unsafe/Screenshot 2024-03-07 121935.png\n",
            "unsafe/Screenshot 2024-03-07 121951.png\n",
            "unsafe/Screenshot 2024-03-07 122022.png\n",
            "unsafe/Screenshot 2024-03-07 122033.png\n",
            "unsafe/Screenshot 2024-03-07 122047.png\n",
            "unsafe/Screenshot 2024-03-07 122101.png\n",
            "unsafe/Screenshot 2024-03-07 122118.png\n",
            "unsafe/Screenshot 2024-03-07 122134.png\n",
            "unsafe/Screenshot 2024-03-07 122241.png\n",
            "unsafe/Screenshot 2024-03-07 122353.png\n",
            "unsafe/Screenshot 2024-03-07 122404.png\n",
            "unsafe/Screenshot 2024-03-07 122413.png\n",
            "unsafe/Screenshot 2024-03-07 122456.png\n",
            "unsafe/Screenshot 2024-03-07 122504.png\n",
            "unsafe/Screenshot 2024-03-07 122535.png\n",
            "unsafe/Screenshot 2024-03-07 122548.png\n",
            "unsafe/Screenshot 2024-03-07 122655.png\n",
            "unsafe/Screenshot 2024-03-07 133811.png\n",
            "unsafe/Screenshot 2024-03-07 133821.png\n",
            "unsafe/Screenshot 2024-03-07 133841.png\n",
            "unsafe/Screenshot 2024-03-07 133907.png\n",
            "unsafe/Screenshot 2024-03-07 133930.png\n"
          ]
        }
      ]
    },
    {
      "cell_type": "code",
      "source": [
        "train = pd.read_csv('/content/drive/MyDrive/colab_paths1.csv')\n",
        "train.head()"
      ],
      "metadata": {
        "colab": {
          "base_uri": "https://localhost:8080/",
          "height": 206
        },
        "id": "TCwRacThoA02",
        "outputId": "3a5d8585-a8a0-48f4-8ffb-029d234ae488"
      },
      "execution_count": null,
      "outputs": [
        {
          "output_type": "execute_result",
          "data": {
            "text/plain": [
              "     Image Path  Class Label                            colab_path\n",
              "0    safe/1.png            0    /content/drive/My Drive/safe/1.png\n",
              "1   safe/10.png            0   /content/drive/My Drive/safe/10.png\n",
              "2  safe/100.png            0  /content/drive/My Drive/safe/100.png\n",
              "3  safe/101.png            0  /content/drive/My Drive/safe/101.png\n",
              "4  safe/102.png            0  /content/drive/My Drive/safe/102.png"
            ],
            "text/html": [
              "\n",
              "  <div id=\"df-d0a44e8d-bbd9-4194-893f-e977d116a9e1\" class=\"colab-df-container\">\n",
              "    <div>\n",
              "<style scoped>\n",
              "    .dataframe tbody tr th:only-of-type {\n",
              "        vertical-align: middle;\n",
              "    }\n",
              "\n",
              "    .dataframe tbody tr th {\n",
              "        vertical-align: top;\n",
              "    }\n",
              "\n",
              "    .dataframe thead th {\n",
              "        text-align: right;\n",
              "    }\n",
              "</style>\n",
              "<table border=\"1\" class=\"dataframe\">\n",
              "  <thead>\n",
              "    <tr style=\"text-align: right;\">\n",
              "      <th></th>\n",
              "      <th>Image Path</th>\n",
              "      <th>Class Label</th>\n",
              "      <th>colab_path</th>\n",
              "    </tr>\n",
              "  </thead>\n",
              "  <tbody>\n",
              "    <tr>\n",
              "      <th>0</th>\n",
              "      <td>safe/1.png</td>\n",
              "      <td>0</td>\n",
              "      <td>/content/drive/My Drive/safe/1.png</td>\n",
              "    </tr>\n",
              "    <tr>\n",
              "      <th>1</th>\n",
              "      <td>safe/10.png</td>\n",
              "      <td>0</td>\n",
              "      <td>/content/drive/My Drive/safe/10.png</td>\n",
              "    </tr>\n",
              "    <tr>\n",
              "      <th>2</th>\n",
              "      <td>safe/100.png</td>\n",
              "      <td>0</td>\n",
              "      <td>/content/drive/My Drive/safe/100.png</td>\n",
              "    </tr>\n",
              "    <tr>\n",
              "      <th>3</th>\n",
              "      <td>safe/101.png</td>\n",
              "      <td>0</td>\n",
              "      <td>/content/drive/My Drive/safe/101.png</td>\n",
              "    </tr>\n",
              "    <tr>\n",
              "      <th>4</th>\n",
              "      <td>safe/102.png</td>\n",
              "      <td>0</td>\n",
              "      <td>/content/drive/My Drive/safe/102.png</td>\n",
              "    </tr>\n",
              "  </tbody>\n",
              "</table>\n",
              "</div>\n",
              "    <div class=\"colab-df-buttons\">\n",
              "\n",
              "  <div class=\"colab-df-container\">\n",
              "    <button class=\"colab-df-convert\" onclick=\"convertToInteractive('df-d0a44e8d-bbd9-4194-893f-e977d116a9e1')\"\n",
              "            title=\"Convert this dataframe to an interactive table.\"\n",
              "            style=\"display:none;\">\n",
              "\n",
              "  <svg xmlns=\"http://www.w3.org/2000/svg\" height=\"24px\" viewBox=\"0 -960 960 960\">\n",
              "    <path d=\"M120-120v-720h720v720H120Zm60-500h600v-160H180v160Zm220 220h160v-160H400v160Zm0 220h160v-160H400v160ZM180-400h160v-160H180v160Zm440 0h160v-160H620v160ZM180-180h160v-160H180v160Zm440 0h160v-160H620v160Z\"/>\n",
              "  </svg>\n",
              "    </button>\n",
              "\n",
              "  <style>\n",
              "    .colab-df-container {\n",
              "      display:flex;\n",
              "      gap: 12px;\n",
              "    }\n",
              "\n",
              "    .colab-df-convert {\n",
              "      background-color: #E8F0FE;\n",
              "      border: none;\n",
              "      border-radius: 50%;\n",
              "      cursor: pointer;\n",
              "      display: none;\n",
              "      fill: #1967D2;\n",
              "      height: 32px;\n",
              "      padding: 0 0 0 0;\n",
              "      width: 32px;\n",
              "    }\n",
              "\n",
              "    .colab-df-convert:hover {\n",
              "      background-color: #E2EBFA;\n",
              "      box-shadow: 0px 1px 2px rgba(60, 64, 67, 0.3), 0px 1px 3px 1px rgba(60, 64, 67, 0.15);\n",
              "      fill: #174EA6;\n",
              "    }\n",
              "\n",
              "    .colab-df-buttons div {\n",
              "      margin-bottom: 4px;\n",
              "    }\n",
              "\n",
              "    [theme=dark] .colab-df-convert {\n",
              "      background-color: #3B4455;\n",
              "      fill: #D2E3FC;\n",
              "    }\n",
              "\n",
              "    [theme=dark] .colab-df-convert:hover {\n",
              "      background-color: #434B5C;\n",
              "      box-shadow: 0px 1px 3px 1px rgba(0, 0, 0, 0.15);\n",
              "      filter: drop-shadow(0px 1px 2px rgba(0, 0, 0, 0.3));\n",
              "      fill: #FFFFFF;\n",
              "    }\n",
              "  </style>\n",
              "\n",
              "    <script>\n",
              "      const buttonEl =\n",
              "        document.querySelector('#df-d0a44e8d-bbd9-4194-893f-e977d116a9e1 button.colab-df-convert');\n",
              "      buttonEl.style.display =\n",
              "        google.colab.kernel.accessAllowed ? 'block' : 'none';\n",
              "\n",
              "      async function convertToInteractive(key) {\n",
              "        const element = document.querySelector('#df-d0a44e8d-bbd9-4194-893f-e977d116a9e1');\n",
              "        const dataTable =\n",
              "          await google.colab.kernel.invokeFunction('convertToInteractive',\n",
              "                                                    [key], {});\n",
              "        if (!dataTable) return;\n",
              "\n",
              "        const docLinkHtml = 'Like what you see? Visit the ' +\n",
              "          '<a target=\"_blank\" href=https://colab.research.google.com/notebooks/data_table.ipynb>data table notebook</a>'\n",
              "          + ' to learn more about interactive tables.';\n",
              "        element.innerHTML = '';\n",
              "        dataTable['output_type'] = 'display_data';\n",
              "        await google.colab.output.renderOutput(dataTable, element);\n",
              "        const docLink = document.createElement('div');\n",
              "        docLink.innerHTML = docLinkHtml;\n",
              "        element.appendChild(docLink);\n",
              "      }\n",
              "    </script>\n",
              "  </div>\n",
              "\n",
              "\n",
              "<div id=\"df-9ea0f829-3238-4760-b607-ed42f3c85c27\">\n",
              "  <button class=\"colab-df-quickchart\" onclick=\"quickchart('df-9ea0f829-3238-4760-b607-ed42f3c85c27')\"\n",
              "            title=\"Suggest charts\"\n",
              "            style=\"display:none;\">\n",
              "\n",
              "<svg xmlns=\"http://www.w3.org/2000/svg\" height=\"24px\"viewBox=\"0 0 24 24\"\n",
              "     width=\"24px\">\n",
              "    <g>\n",
              "        <path d=\"M19 3H5c-1.1 0-2 .9-2 2v14c0 1.1.9 2 2 2h14c1.1 0 2-.9 2-2V5c0-1.1-.9-2-2-2zM9 17H7v-7h2v7zm4 0h-2V7h2v10zm4 0h-2v-4h2v4z\"/>\n",
              "    </g>\n",
              "</svg>\n",
              "  </button>\n",
              "\n",
              "<style>\n",
              "  .colab-df-quickchart {\n",
              "      --bg-color: #E8F0FE;\n",
              "      --fill-color: #1967D2;\n",
              "      --hover-bg-color: #E2EBFA;\n",
              "      --hover-fill-color: #174EA6;\n",
              "      --disabled-fill-color: #AAA;\n",
              "      --disabled-bg-color: #DDD;\n",
              "  }\n",
              "\n",
              "  [theme=dark] .colab-df-quickchart {\n",
              "      --bg-color: #3B4455;\n",
              "      --fill-color: #D2E3FC;\n",
              "      --hover-bg-color: #434B5C;\n",
              "      --hover-fill-color: #FFFFFF;\n",
              "      --disabled-bg-color: #3B4455;\n",
              "      --disabled-fill-color: #666;\n",
              "  }\n",
              "\n",
              "  .colab-df-quickchart {\n",
              "    background-color: var(--bg-color);\n",
              "    border: none;\n",
              "    border-radius: 50%;\n",
              "    cursor: pointer;\n",
              "    display: none;\n",
              "    fill: var(--fill-color);\n",
              "    height: 32px;\n",
              "    padding: 0;\n",
              "    width: 32px;\n",
              "  }\n",
              "\n",
              "  .colab-df-quickchart:hover {\n",
              "    background-color: var(--hover-bg-color);\n",
              "    box-shadow: 0 1px 2px rgba(60, 64, 67, 0.3), 0 1px 3px 1px rgba(60, 64, 67, 0.15);\n",
              "    fill: var(--button-hover-fill-color);\n",
              "  }\n",
              "\n",
              "  .colab-df-quickchart-complete:disabled,\n",
              "  .colab-df-quickchart-complete:disabled:hover {\n",
              "    background-color: var(--disabled-bg-color);\n",
              "    fill: var(--disabled-fill-color);\n",
              "    box-shadow: none;\n",
              "  }\n",
              "\n",
              "  .colab-df-spinner {\n",
              "    border: 2px solid var(--fill-color);\n",
              "    border-color: transparent;\n",
              "    border-bottom-color: var(--fill-color);\n",
              "    animation:\n",
              "      spin 1s steps(1) infinite;\n",
              "  }\n",
              "\n",
              "  @keyframes spin {\n",
              "    0% {\n",
              "      border-color: transparent;\n",
              "      border-bottom-color: var(--fill-color);\n",
              "      border-left-color: var(--fill-color);\n",
              "    }\n",
              "    20% {\n",
              "      border-color: transparent;\n",
              "      border-left-color: var(--fill-color);\n",
              "      border-top-color: var(--fill-color);\n",
              "    }\n",
              "    30% {\n",
              "      border-color: transparent;\n",
              "      border-left-color: var(--fill-color);\n",
              "      border-top-color: var(--fill-color);\n",
              "      border-right-color: var(--fill-color);\n",
              "    }\n",
              "    40% {\n",
              "      border-color: transparent;\n",
              "      border-right-color: var(--fill-color);\n",
              "      border-top-color: var(--fill-color);\n",
              "    }\n",
              "    60% {\n",
              "      border-color: transparent;\n",
              "      border-right-color: var(--fill-color);\n",
              "    }\n",
              "    80% {\n",
              "      border-color: transparent;\n",
              "      border-right-color: var(--fill-color);\n",
              "      border-bottom-color: var(--fill-color);\n",
              "    }\n",
              "    90% {\n",
              "      border-color: transparent;\n",
              "      border-bottom-color: var(--fill-color);\n",
              "    }\n",
              "  }\n",
              "</style>\n",
              "\n",
              "  <script>\n",
              "    async function quickchart(key) {\n",
              "      const quickchartButtonEl =\n",
              "        document.querySelector('#' + key + ' button');\n",
              "      quickchartButtonEl.disabled = true;  // To prevent multiple clicks.\n",
              "      quickchartButtonEl.classList.add('colab-df-spinner');\n",
              "      try {\n",
              "        const charts = await google.colab.kernel.invokeFunction(\n",
              "            'suggestCharts', [key], {});\n",
              "      } catch (error) {\n",
              "        console.error('Error during call to suggestCharts:', error);\n",
              "      }\n",
              "      quickchartButtonEl.classList.remove('colab-df-spinner');\n",
              "      quickchartButtonEl.classList.add('colab-df-quickchart-complete');\n",
              "    }\n",
              "    (() => {\n",
              "      let quickchartButtonEl =\n",
              "        document.querySelector('#df-9ea0f829-3238-4760-b607-ed42f3c85c27 button');\n",
              "      quickchartButtonEl.style.display =\n",
              "        google.colab.kernel.accessAllowed ? 'block' : 'none';\n",
              "    })();\n",
              "  </script>\n",
              "</div>\n",
              "    </div>\n",
              "  </div>\n"
            ],
            "application/vnd.google.colaboratory.intrinsic+json": {
              "type": "dataframe",
              "variable_name": "train",
              "summary": "{\n  \"name\": \"train\",\n  \"rows\": 382,\n  \"fields\": [\n    {\n      \"column\": \"Image Path\",\n      \"properties\": {\n        \"dtype\": \"string\",\n        \"num_unique_values\": 382,\n        \"samples\": [\n          \"unsafe/Screenshot 2024-03-07 113255.png\",\n          \"unsafe/Screenshot 2024-03-07 104912.png\",\n          \"unsafe/Screenshot 2024-03-07 104039.png\"\n        ],\n        \"semantic_type\": \"\",\n        \"description\": \"\"\n      }\n    },\n    {\n      \"column\": \"Class Label\",\n      \"properties\": {\n        \"dtype\": \"number\",\n        \"std\": 0,\n        \"min\": 0,\n        \"max\": 1,\n        \"num_unique_values\": 2,\n        \"samples\": [\n          1,\n          0\n        ],\n        \"semantic_type\": \"\",\n        \"description\": \"\"\n      }\n    },\n    {\n      \"column\": \"colab_path\",\n      \"properties\": {\n        \"dtype\": \"string\",\n        \"num_unique_values\": 382,\n        \"samples\": [\n          \"/content/drive/My Drive/unsafe/Screenshot 2024-03-07 113255.png\",\n          \"/content/drive/My Drive/unsafe/Screenshot 2024-03-07 104912.png\"\n        ],\n        \"semantic_type\": \"\",\n        \"description\": \"\"\n      }\n    }\n  ]\n}"
            }
          },
          "metadata": {},
          "execution_count": 40
        }
      ]
    },
    {
      "cell_type": "code",
      "source": [
        "train_image = []\n",
        "from tqdm import tqdm\n",
        "from keras.preprocessing import image\n",
        "import numpy as np\n",
        "# for loop to read and store frames\n",
        "for i in tqdm(range(train.shape[0])):\n",
        "    # loading the image and keeping the target size as (224,224,3)\n",
        "    img = image.load_img(train['colab_path'][i], target_size=(224,224,3))\n",
        "    # converting it to array\n",
        "    img = image.img_to_array(img)\n",
        "    # normalizing the pixel value\n",
        "    img = img/255.0\n",
        "    # appending the image to the train_image list\n",
        "    train_image.append(img)\n",
        "\n",
        "# converting the list to numpy array\n",
        "x = np.array(train_image)\n",
        "\n",
        "# shape of the array\n",
        "x.shape"
      ],
      "metadata": {
        "colab": {
          "base_uri": "https://localhost:8080/"
        },
        "id": "qGpcR3Bgvs12",
        "outputId": "553f96d4-2d93-44a3-b3e1-bd89e0b4a367"
      },
      "execution_count": null,
      "outputs": [
        {
          "output_type": "stream",
          "name": "stderr",
          "text": [
            "100%|██████████| 382/382 [00:05<00:00, 67.79it/s]\n"
          ]
        },
        {
          "output_type": "execute_result",
          "data": {
            "text/plain": [
              "(382, 224, 224, 3)"
            ]
          },
          "metadata": {},
          "execution_count": 41
        }
      ]
    },
    {
      "cell_type": "code",
      "source": [
        "!pip install scikit-learn\n",
        "from sklearn.model_selection import train_test_split\n",
        "y = train['Class Label']\n",
        "x_train, x_test, y_train, y_test = train_test_split(x, y, random_state=42, test_size=0.2, stratify = y)"
      ],
      "metadata": {
        "colab": {
          "base_uri": "https://localhost:8080/"
        },
        "id": "CDBl1b-hxmOg",
        "outputId": "b1eb0519-7643-4a36-ecd3-c9e8d4a07c04"
      },
      "execution_count": null,
      "outputs": [
        {
          "output_type": "stream",
          "name": "stdout",
          "text": [
            "Requirement already satisfied: scikit-learn in /usr/local/lib/python3.10/dist-packages (1.2.2)\n",
            "Requirement already satisfied: numpy>=1.17.3 in /usr/local/lib/python3.10/dist-packages (from scikit-learn) (1.25.2)\n",
            "Requirement already satisfied: scipy>=1.3.2 in /usr/local/lib/python3.10/dist-packages (from scikit-learn) (1.11.4)\n",
            "Requirement already satisfied: joblib>=1.1.1 in /usr/local/lib/python3.10/dist-packages (from scikit-learn) (1.3.2)\n",
            "Requirement already satisfied: threadpoolctl>=2.0.0 in /usr/local/lib/python3.10/dist-packages (from scikit-learn) (3.3.0)\n"
          ]
        }
      ]
    },
    {
      "cell_type": "code",
      "source": [
        "y_train = pd.get_dummies(y_train)\n",
        "y_test = pd.get_dummies(y_test)"
      ],
      "metadata": {
        "id": "ygLFcKUfyJ5O"
      },
      "execution_count": null,
      "outputs": []
    },
    {
      "cell_type": "code",
      "source": [
        "from tensorflow.keras.applications.vgg16 import VGG16, preprocess_input\n",
        "\n",
        "base_model = VGG16(weights='imagenet', include_top=False)"
      ],
      "metadata": {
        "id": "PgytCZLd4m_b"
      },
      "execution_count": null,
      "outputs": []
    },
    {
      "cell_type": "code",
      "source": [
        "x_train = base_model.predict(x_train)\n",
        "x_train.shape"
      ],
      "metadata": {
        "colab": {
          "base_uri": "https://localhost:8080/"
        },
        "id": "N2U9e-tq4p4Q",
        "outputId": "8bf5aff8-d3a7-4ce9-9715-294208426a45"
      },
      "execution_count": null,
      "outputs": [
        {
          "output_type": "stream",
          "name": "stdout",
          "text": [
            "10/10 [==============================] - 207s 20s/step\n"
          ]
        },
        {
          "output_type": "execute_result",
          "data": {
            "text/plain": [
              "(305, 7, 7, 512)"
            ]
          },
          "metadata": {},
          "execution_count": 57
        }
      ]
    },
    {
      "cell_type": "code",
      "source": [
        "x_test = base_model.predict(x_test)\n",
        "x_test.shape"
      ],
      "metadata": {
        "colab": {
          "base_uri": "https://localhost:8080/"
        },
        "id": "_LPl_-xC4tj3",
        "outputId": "f04eab98-9a73-4940-f56d-42761215505f"
      },
      "execution_count": null,
      "outputs": [
        {
          "output_type": "stream",
          "name": "stdout",
          "text": [
            "3/3 [==============================] - 47s 14s/step\n"
          ]
        },
        {
          "output_type": "execute_result",
          "data": {
            "text/plain": [
              "(77, 7, 7, 512)"
            ]
          },
          "metadata": {},
          "execution_count": 58
        }
      ]
    },
    {
      "cell_type": "code",
      "source": [],
      "metadata": {
        "id": "kN9GtnkKeZct"
      },
      "execution_count": null,
      "outputs": []
    },
    {
      "cell_type": "code",
      "source": [
        "x_train = x_train.reshape(305, 7*7*512)\n",
        "x_test = x_test.reshape(77, 7*7*512)\n",
        "# x_train_flat = x_train.reshape(x_train.shape[0], -1)\n",
        "# x_test_flat = x_test.reshape(x_test.shape[0], -1)\n",
        "\n",
        "# Reshape the flattened arrays to have 8 and 2 samples, respectively, with each sample having a shape of (25088,)\n",
        "#x_train_flat = x_train_flat[:8]\n",
        "#x_test_flat = x_test_flat[:2]\n",
        "\n",
        "print(x_train.shape)\n",
        "print(x_test.shape)"
      ],
      "metadata": {
        "colab": {
          "base_uri": "https://localhost:8080/"
        },
        "id": "TdYgKrrf4xKw",
        "outputId": "1f4491ec-c2a7-4999-c312-802d7317e156"
      },
      "execution_count": null,
      "outputs": [
        {
          "output_type": "stream",
          "name": "stdout",
          "text": [
            "(305, 25088)\n",
            "(77, 25088)\n"
          ]
        }
      ]
    },
    {
      "cell_type": "code",
      "source": [
        "max = x_train.max()\n",
        "x_train = x_train/max\n",
        "x_test = x_test/max"
      ],
      "metadata": {
        "id": "HKh18ZDQ4z4v"
      },
      "execution_count": null,
      "outputs": []
    },
    {
      "cell_type": "markdown",
      "source": [],
      "metadata": {
        "id": "bgk9kJy_6T49"
      }
    },
    {
      "cell_type": "code",
      "source": [
        "from tensorflow.keras.models import Sequential\n",
        "from keras.layers import Dense, Dropout, Flatten\n",
        "model = Sequential()\n",
        "model.add(Dense(1024, activation='relu', input_shape=(25088,)))\n",
        "model.add(Dropout(0.5))\n",
        "model.add(Dense(512, activation='relu'))\n",
        "model.add(Dropout(0.5))\n",
        "model.add(Dense(256, activation='relu'))\n",
        "model.add(Dropout(0.5))\n",
        "model.add(Dense(128, activation='relu'))\n",
        "model.add(Dropout(0.5))\n",
        "model.add(Dense(2, activation='softmax'))"
      ],
      "metadata": {
        "id": "sr2fCqU143Zu"
      },
      "execution_count": null,
      "outputs": []
    },
    {
      "cell_type": "code",
      "source": [
        "from keras.callbacks import ModelCheckpoint\n",
        "\n",
        "# Define the ModelCheckpoint callback to save only the weights\n",
        "mcp_save = ModelCheckpoint('.weights1.h5', save_best_only=True, save_weights_only=True, monitor='val_loss', mode='min')\n"
      ],
      "metadata": {
        "id": "GaQGSfPY6bAG"
      },
      "execution_count": null,
      "outputs": []
    },
    {
      "cell_type": "code",
      "source": [
        "model.compile(loss='categorical_crossentropy',optimizer='Adam',metrics=['accuracy'])\n",
        "model.summary()"
      ],
      "metadata": {
        "colab": {
          "base_uri": "https://localhost:8080/"
        },
        "id": "StAtE2d86f1N",
        "outputId": "288fc6cd-f780-4bb1-c693-38982ae9cf72"
      },
      "execution_count": null,
      "outputs": [
        {
          "output_type": "stream",
          "name": "stdout",
          "text": [
            "Model: \"sequential_4\"\n",
            "_________________________________________________________________\n",
            " Layer (type)                Output Shape              Param #   \n",
            "=================================================================\n",
            " dense_20 (Dense)            (None, 1024)              25691136  \n",
            "                                                                 \n",
            " dropout_16 (Dropout)        (None, 1024)              0         \n",
            "                                                                 \n",
            " dense_21 (Dense)            (None, 512)               524800    \n",
            "                                                                 \n",
            " dropout_17 (Dropout)        (None, 512)               0         \n",
            "                                                                 \n",
            " dense_22 (Dense)            (None, 256)               131328    \n",
            "                                                                 \n",
            " dropout_18 (Dropout)        (None, 256)               0         \n",
            "                                                                 \n",
            " dense_23 (Dense)            (None, 128)               32896     \n",
            "                                                                 \n",
            " dropout_19 (Dropout)        (None, 128)               0         \n",
            "                                                                 \n",
            " dense_24 (Dense)            (None, 2)                 258       \n",
            "                                                                 \n",
            "=================================================================\n",
            "Total params: 26380418 (100.63 MB)\n",
            "Trainable params: 26380418 (100.63 MB)\n",
            "Non-trainable params: 0 (0.00 Byte)\n",
            "_________________________________________________________________\n"
          ]
        }
      ]
    },
    {
      "cell_type": "code",
      "source": [
        "# training the model\n",
        "vgg_hist = model.fit(x_train, y_train, epochs=50, validation_data=(x_test, y_test), callbacks=[mcp_save], batch_size=128)"
      ],
      "metadata": {
        "colab": {
          "base_uri": "https://localhost:8080/"
        },
        "id": "7IOVi9Sk6lrI",
        "outputId": "56369ea2-5a91-4701-ec71-a3d663a33c52"
      },
      "execution_count": null,
      "outputs": [
        {
          "output_type": "stream",
          "name": "stdout",
          "text": [
            "Epoch 1/50\n",
            "3/3 [==============================] - 5s 1s/step - loss: 0.7117 - accuracy: 0.4787 - val_loss: 0.6915 - val_accuracy: 0.4805\n",
            "Epoch 2/50\n",
            "3/3 [==============================] - 3s 781ms/step - loss: 0.8562 - accuracy: 0.4852 - val_loss: 0.6583 - val_accuracy: 0.5844\n",
            "Epoch 3/50\n",
            "3/3 [==============================] - 2s 787ms/step - loss: 0.7842 - accuracy: 0.5213 - val_loss: 0.6447 - val_accuracy: 0.8312\n",
            "Epoch 4/50\n",
            "3/3 [==============================] - 2s 772ms/step - loss: 0.8303 - accuracy: 0.5082 - val_loss: 0.6302 - val_accuracy: 0.7013\n",
            "Epoch 5/50\n",
            "3/3 [==============================] - 2s 764ms/step - loss: 0.7872 - accuracy: 0.4623 - val_loss: 0.6117 - val_accuracy: 0.7532\n",
            "Epoch 6/50\n",
            "3/3 [==============================] - 3s 1s/step - loss: 0.7271 - accuracy: 0.5279 - val_loss: 0.5959 - val_accuracy: 0.9091\n",
            "Epoch 7/50\n",
            "3/3 [==============================] - 3s 1s/step - loss: 0.6478 - accuracy: 0.5902 - val_loss: 0.5641 - val_accuracy: 0.7792\n",
            "Epoch 8/50\n",
            "3/3 [==============================] - 2s 795ms/step - loss: 0.6292 - accuracy: 0.6131 - val_loss: 0.5279 - val_accuracy: 0.8961\n",
            "Epoch 9/50\n",
            "3/3 [==============================] - 2s 755ms/step - loss: 0.5409 - accuracy: 0.7410 - val_loss: 0.4652 - val_accuracy: 0.9221\n",
            "Epoch 10/50\n",
            "3/3 [==============================] - 2s 814ms/step - loss: 0.4719 - accuracy: 0.8000 - val_loss: 0.4033 - val_accuracy: 0.8701\n",
            "Epoch 11/50\n",
            "3/3 [==============================] - 2s 777ms/step - loss: 0.4015 - accuracy: 0.8262 - val_loss: 0.3414 - val_accuracy: 0.8961\n",
            "Epoch 12/50\n",
            "3/3 [==============================] - 3s 1s/step - loss: 0.3168 - accuracy: 0.8820 - val_loss: 0.2917 - val_accuracy: 0.8961\n",
            "Epoch 13/50\n",
            "3/3 [==============================] - 3s 700ms/step - loss: 0.2774 - accuracy: 0.9016 - val_loss: 0.3453 - val_accuracy: 0.8961\n",
            "Epoch 14/50\n",
            "3/3 [==============================] - 2s 650ms/step - loss: 0.2220 - accuracy: 0.9246 - val_loss: 0.3995 - val_accuracy: 0.8961\n",
            "Epoch 15/50\n",
            "3/3 [==============================] - 2s 628ms/step - loss: 0.2946 - accuracy: 0.9213 - val_loss: 0.4088 - val_accuracy: 0.8831\n",
            "Epoch 16/50\n",
            "3/3 [==============================] - 2s 631ms/step - loss: 0.1503 - accuracy: 0.9443 - val_loss: 0.3971 - val_accuracy: 0.9091\n",
            "Epoch 17/50\n",
            "3/3 [==============================] - 2s 659ms/step - loss: 0.1433 - accuracy: 0.9475 - val_loss: 0.4469 - val_accuracy: 0.8961\n",
            "Epoch 18/50\n",
            "3/3 [==============================] - 2s 900ms/step - loss: 0.0986 - accuracy: 0.9639 - val_loss: 0.3458 - val_accuracy: 0.9091\n",
            "Epoch 19/50\n",
            "3/3 [==============================] - 3s 963ms/step - loss: 0.0780 - accuracy: 0.9803 - val_loss: 0.5333 - val_accuracy: 0.8701\n",
            "Epoch 20/50\n",
            "3/3 [==============================] - 2s 619ms/step - loss: 0.0756 - accuracy: 0.9738 - val_loss: 0.5500 - val_accuracy: 0.8831\n",
            "Epoch 21/50\n",
            "3/3 [==============================] - 2s 656ms/step - loss: 0.0398 - accuracy: 0.9967 - val_loss: 0.4084 - val_accuracy: 0.9091\n",
            "Epoch 22/50\n",
            "3/3 [==============================] - 2s 623ms/step - loss: 0.0558 - accuracy: 0.9836 - val_loss: 0.5088 - val_accuracy: 0.9091\n",
            "Epoch 23/50\n",
            "3/3 [==============================] - 2s 616ms/step - loss: 0.0186 - accuracy: 1.0000 - val_loss: 0.6721 - val_accuracy: 0.8831\n",
            "Epoch 24/50\n",
            "3/3 [==============================] - 2s 631ms/step - loss: 0.0183 - accuracy: 0.9967 - val_loss: 0.6093 - val_accuracy: 0.9091\n",
            "Epoch 25/50\n",
            "3/3 [==============================] - 3s 1s/step - loss: 0.0072 - accuracy: 1.0000 - val_loss: 0.5619 - val_accuracy: 0.9091\n",
            "Epoch 26/50\n",
            "3/3 [==============================] - 3s 797ms/step - loss: 0.0149 - accuracy: 0.9967 - val_loss: 0.6321 - val_accuracy: 0.9091\n",
            "Epoch 27/50\n",
            "3/3 [==============================] - 2s 657ms/step - loss: 0.0100 - accuracy: 0.9967 - val_loss: 0.8636 - val_accuracy: 0.8961\n",
            "Epoch 28/50\n",
            "3/3 [==============================] - 2s 655ms/step - loss: 0.0217 - accuracy: 0.9934 - val_loss: 0.7419 - val_accuracy: 0.9091\n",
            "Epoch 29/50\n",
            "3/3 [==============================] - 2s 652ms/step - loss: 0.0019 - accuracy: 1.0000 - val_loss: 0.6805 - val_accuracy: 0.9091\n",
            "Epoch 30/50\n",
            "3/3 [==============================] - 2s 628ms/step - loss: 0.0109 - accuracy: 0.9934 - val_loss: 0.7350 - val_accuracy: 0.9091\n",
            "Epoch 31/50\n",
            "3/3 [==============================] - 2s 815ms/step - loss: 0.0147 - accuracy: 0.9902 - val_loss: 0.7239 - val_accuracy: 0.9091\n",
            "Epoch 32/50\n",
            "3/3 [==============================] - 3s 1s/step - loss: 0.0042 - accuracy: 1.0000 - val_loss: 0.7049 - val_accuracy: 0.9091\n",
            "Epoch 33/50\n",
            "3/3 [==============================] - 2s 664ms/step - loss: 0.0087 - accuracy: 0.9967 - val_loss: 0.7289 - val_accuracy: 0.9091\n",
            "Epoch 34/50\n",
            "3/3 [==============================] - 2s 659ms/step - loss: 0.0034 - accuracy: 1.0000 - val_loss: 0.7350 - val_accuracy: 0.9091\n",
            "Epoch 35/50\n",
            "3/3 [==============================] - 2s 659ms/step - loss: 0.0028 - accuracy: 1.0000 - val_loss: 0.7396 - val_accuracy: 0.9091\n",
            "Epoch 36/50\n",
            "3/3 [==============================] - 2s 654ms/step - loss: 0.0046 - accuracy: 1.0000 - val_loss: 0.7604 - val_accuracy: 0.9091\n",
            "Epoch 37/50\n",
            "3/3 [==============================] - 2s 627ms/step - loss: 0.0022 - accuracy: 1.0000 - val_loss: 0.7824 - val_accuracy: 0.9091\n",
            "Epoch 38/50\n",
            "3/3 [==============================] - 3s 1s/step - loss: 0.0020 - accuracy: 1.0000 - val_loss: 0.8097 - val_accuracy: 0.9091\n",
            "Epoch 39/50\n",
            "3/3 [==============================] - 3s 789ms/step - loss: 0.0013 - accuracy: 1.0000 - val_loss: 0.8442 - val_accuracy: 0.9091\n",
            "Epoch 40/50\n",
            "3/3 [==============================] - 2s 676ms/step - loss: 0.0010 - accuracy: 1.0000 - val_loss: 0.8823 - val_accuracy: 0.9091\n",
            "Epoch 41/50\n",
            "3/3 [==============================] - 2s 674ms/step - loss: 8.1103e-04 - accuracy: 1.0000 - val_loss: 0.9213 - val_accuracy: 0.9091\n",
            "Epoch 42/50\n",
            "3/3 [==============================] - 2s 644ms/step - loss: 0.0011 - accuracy: 1.0000 - val_loss: 0.9477 - val_accuracy: 0.9091\n",
            "Epoch 43/50\n",
            "3/3 [==============================] - 2s 656ms/step - loss: 5.0008e-04 - accuracy: 1.0000 - val_loss: 0.9648 - val_accuracy: 0.9091\n",
            "Epoch 44/50\n",
            "3/3 [==============================] - 2s 896ms/step - loss: 5.1128e-04 - accuracy: 1.0000 - val_loss: 0.9777 - val_accuracy: 0.9091\n",
            "Epoch 45/50\n",
            "3/3 [==============================] - 3s 1s/step - loss: 6.6258e-04 - accuracy: 1.0000 - val_loss: 0.9900 - val_accuracy: 0.9091\n",
            "Epoch 46/50\n",
            "3/3 [==============================] - 3s 709ms/step - loss: 0.0037 - accuracy: 0.9967 - val_loss: 0.9784 - val_accuracy: 0.9091\n",
            "Epoch 47/50\n",
            "3/3 [==============================] - 2s 630ms/step - loss: 2.6120e-04 - accuracy: 1.0000 - val_loss: 0.9042 - val_accuracy: 0.8961\n",
            "Epoch 48/50\n",
            "3/3 [==============================] - 2s 626ms/step - loss: 0.0016 - accuracy: 1.0000 - val_loss: 0.8934 - val_accuracy: 0.8961\n",
            "Epoch 49/50\n",
            "3/3 [==============================] - 2s 659ms/step - loss: 0.0053 - accuracy: 0.9967 - val_loss: 0.9889 - val_accuracy: 0.9091\n",
            "Epoch 50/50\n",
            "3/3 [==============================] - 3s 971ms/step - loss: 8.5878e-04 - accuracy: 1.0000 - val_loss: 1.1133 - val_accuracy: 0.8831\n"
          ]
        }
      ]
    },
    {
      "cell_type": "code",
      "source": [
        "scores = model.evaluate(x_test, y_test)\n",
        "print(f\"Test Accuracy: {scores[1]*100}\")"
      ],
      "metadata": {
        "colab": {
          "base_uri": "https://localhost:8080/"
        },
        "id": "BJE30CN1_UV2",
        "outputId": "e37a82e1-6dd3-489a-bd74-54a9d02dbdf4"
      },
      "execution_count": null,
      "outputs": [
        {
          "output_type": "stream",
          "name": "stdout",
          "text": [
            "3/3 [==============================] - 0s 51ms/step - loss: 1.1133 - accuracy: 0.8831\n",
            "Test Accuracy: 88.31169009208679\n"
          ]
        }
      ]
    },
    {
      "cell_type": "code",
      "source": [
        "model.save('my_model2.h5')"
      ],
      "metadata": {
        "colab": {
          "base_uri": "https://localhost:8080/"
        },
        "id": "N17Ybv2G_3x7",
        "outputId": "a4e8aa1b-16f8-4255-e1ad-08697eba6380"
      },
      "execution_count": null,
      "outputs": [
        {
          "output_type": "stream",
          "name": "stderr",
          "text": [
            "/usr/local/lib/python3.10/dist-packages/keras/src/engine/training.py:3079: UserWarning: You are saving your model as an HDF5 file via `model.save()`. This file format is considered legacy. We recommend using instead the native Keras format, e.g. `model.save('my_model.keras')`.\n",
            "  saving_api.save_model(\n"
          ]
        }
      ]
    },
    {
      "cell_type": "code",
      "source": [
        "from google.colab import files\n",
        "files.download('my_model2.h5')"
      ],
      "metadata": {
        "colab": {
          "base_uri": "https://localhost:8080/",
          "height": 34
        },
        "id": "F6P-3NfKApdX",
        "outputId": "7f0f73da-7fa1-4044-a09c-bc540745282a"
      },
      "execution_count": null,
      "outputs": [
        {
          "output_type": "display_data",
          "data": {
            "text/plain": [
              "<IPython.core.display.Javascript object>"
            ],
            "application/javascript": [
              "\n",
              "    async function download(id, filename, size) {\n",
              "      if (!google.colab.kernel.accessAllowed) {\n",
              "        return;\n",
              "      }\n",
              "      const div = document.createElement('div');\n",
              "      const label = document.createElement('label');\n",
              "      label.textContent = `Downloading \"${filename}\": `;\n",
              "      div.appendChild(label);\n",
              "      const progress = document.createElement('progress');\n",
              "      progress.max = size;\n",
              "      div.appendChild(progress);\n",
              "      document.body.appendChild(div);\n",
              "\n",
              "      const buffers = [];\n",
              "      let downloaded = 0;\n",
              "\n",
              "      const channel = await google.colab.kernel.comms.open(id);\n",
              "      // Send a message to notify the kernel that we're ready.\n",
              "      channel.send({})\n",
              "\n",
              "      for await (const message of channel.messages) {\n",
              "        // Send a message to notify the kernel that we're ready.\n",
              "        channel.send({})\n",
              "        if (message.buffers) {\n",
              "          for (const buffer of message.buffers) {\n",
              "            buffers.push(buffer);\n",
              "            downloaded += buffer.byteLength;\n",
              "            progress.value = downloaded;\n",
              "          }\n",
              "        }\n",
              "      }\n",
              "      const blob = new Blob(buffers, {type: 'application/binary'});\n",
              "      const a = document.createElement('a');\n",
              "      a.href = window.URL.createObjectURL(blob);\n",
              "      a.download = filename;\n",
              "      div.appendChild(a);\n",
              "      a.click();\n",
              "      div.remove();\n",
              "    }\n",
              "  "
            ]
          },
          "metadata": {}
        },
        {
          "output_type": "display_data",
          "data": {
            "text/plain": [
              "<IPython.core.display.Javascript object>"
            ],
            "application/javascript": [
              "download(\"download_6500d16b-01b0-47ea-b26d-c50c8f68017d\", \"my_model2.h5\", 316615712)"
            ]
          },
          "metadata": {}
        }
      ]
    },
    {
      "cell_type": "code",
      "source": [
        "from google.colab import files\n",
        "files.download('.weights1.h5')"
      ],
      "metadata": {
        "colab": {
          "base_uri": "https://localhost:8080/",
          "height": 34
        },
        "id": "fZjgN1MwCFRD",
        "outputId": "e0cf4433-d02e-4320-8f5f-e243d0732755"
      },
      "execution_count": null,
      "outputs": [
        {
          "output_type": "display_data",
          "data": {
            "text/plain": [
              "<IPython.core.display.Javascript object>"
            ],
            "application/javascript": [
              "\n",
              "    async function download(id, filename, size) {\n",
              "      if (!google.colab.kernel.accessAllowed) {\n",
              "        return;\n",
              "      }\n",
              "      const div = document.createElement('div');\n",
              "      const label = document.createElement('label');\n",
              "      label.textContent = `Downloading \"${filename}\": `;\n",
              "      div.appendChild(label);\n",
              "      const progress = document.createElement('progress');\n",
              "      progress.max = size;\n",
              "      div.appendChild(progress);\n",
              "      document.body.appendChild(div);\n",
              "\n",
              "      const buffers = [];\n",
              "      let downloaded = 0;\n",
              "\n",
              "      const channel = await google.colab.kernel.comms.open(id);\n",
              "      // Send a message to notify the kernel that we're ready.\n",
              "      channel.send({})\n",
              "\n",
              "      for await (const message of channel.messages) {\n",
              "        // Send a message to notify the kernel that we're ready.\n",
              "        channel.send({})\n",
              "        if (message.buffers) {\n",
              "          for (const buffer of message.buffers) {\n",
              "            buffers.push(buffer);\n",
              "            downloaded += buffer.byteLength;\n",
              "            progress.value = downloaded;\n",
              "          }\n",
              "        }\n",
              "      }\n",
              "      const blob = new Blob(buffers, {type: 'application/binary'});\n",
              "      const a = document.createElement('a');\n",
              "      a.href = window.URL.createObjectURL(blob);\n",
              "      a.download = filename;\n",
              "      div.appendChild(a);\n",
              "      a.click();\n",
              "      div.remove();\n",
              "    }\n",
              "  "
            ]
          },
          "metadata": {}
        },
        {
          "output_type": "display_data",
          "data": {
            "text/plain": [
              "<IPython.core.display.Javascript object>"
            ],
            "application/javascript": [
              "download(\"download_49e7fd24-4611-495c-bca3-17e3bbfc24c2\", \".weights1.h5\", 105547064)"
            ]
          },
          "metadata": {}
        }
      ]
    },
    {
      "cell_type": "code",
      "source": [],
      "metadata": {
        "id": "D22OBt6aGrm_"
      },
      "execution_count": null,
      "outputs": []
    },
    {
      "cell_type": "markdown",
      "source": [],
      "metadata": {
        "id": "jbnI8HnwikO4"
      }
    }
  ]
}